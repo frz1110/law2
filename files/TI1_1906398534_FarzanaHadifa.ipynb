{
  "nbformat": 4,
  "nbformat_minor": 0,
  "metadata": {
    "colab": {
      "name": "TI1_1906398534_FarzanaHadifa",
      "provenance": []
    },
    "kernelspec": {
      "name": "python3",
      "display_name": "Python 3"
    },
    "language_info": {
      "name": "python"
    }
  },
  "cells": [
    {
      "cell_type": "markdown",
      "source": [
        "# Tugas Individu 1 - Clustering"
      ],
      "metadata": {
        "id": "RfpYeCo9nKmo"
      }
    },
    {
      "cell_type": "markdown",
      "source": [
        "**Tuliskan Nama dan NPM**\n",
        "\n",
        "- Nama: Farzana Hadifa\n",
        "- NPM: 1906398534\n",
        "\n"
      ],
      "metadata": {
        "id": "k7mZ07dHnW2F"
      }
    },
    {
      "cell_type": "markdown",
      "source": [
        "Pada tugas ini, peserta kuliah diharapkan untuk mempelajari, mengimplementasi, dan mengeksplorasi teknik-teknik *clustering*. Teknik yang dibahas pada tugas ini yaitu:\n",
        "1. Partition-Based Clustering\n",
        "2. Hierarchical Clustering\n",
        "3. Density-Based Clustering\n",
        "\n",
        "Selain dari teknik *clustering*, terdapat juga beberapa metode evaluasi hasil *clustering* yang akan dibahas."
      ],
      "metadata": {
        "id": "hCY1gGo3naZJ"
      }
    },
    {
      "cell_type": "code",
      "source": [
        "import pandas as pd\n",
        "import numpy as np\n",
        "import matplotlib.pyplot as plt\n",
        "from sklearn.preprocessing import StandardScaler\n",
        "from sklearn.decomposition import PCA\n",
        "from sklearn.metrics import silhouette_score\n",
        "from scipy.cluster.hierarchy import dendrogram, linkage\n",
        "from sklearn.cluster import DBSCAN\n",
        "from scipy import stats"
      ],
      "metadata": {
        "id": "MUkQ47Wl6eUS"
      },
      "execution_count": 48,
      "outputs": []
    },
    {
      "cell_type": "markdown",
      "source": [
        "## A. Preparation\n",
        "\n",
        "Langkah pertama adalah melakukan import dataset. Dataset yang digunakan untuk tugas ini adalah hasil web crawling dari situs platform e-commerce [Newchic.com](https://www.newchic.com). Data ini terdiri dari katalog produk yang dijual pada situs tersebut beserta dengan metadata dari masing-masing produk yang dijualnya.\n",
        "\n",
        "Untuk tugas ini, kita akan coba menggunakan dataset tersebut untuk dilakukan *clustering*. Dataset yang digunakan telah di-*sampling* untuk memperoleh 100 item barang per kategori dari keseluruhan 9 kategori yang ada.\n",
        "\n",
        "Silakan unduh dataset melalui SceLe Penambangan Data.\n",
        "\n",
        "Dataset diperoleh dari https://data.world/jfreex/products-catalog-from-newchiccom"
      ],
      "metadata": {
        "id": "BV39YzYQoVIG"
      }
    },
    {
      "cell_type": "code",
      "source": [
        "from google.colab import drive\n",
        "drive.mount('/content/drive')"
      ],
      "metadata": {
        "colab": {
          "base_uri": "https://localhost:8080/"
        },
        "id": "SU4grSVrdsQp",
        "outputId": "52c36f67-b461-4dce-f539-56ee2c766211"
      },
      "execution_count": 5,
      "outputs": [
        {
          "output_type": "stream",
          "name": "stdout",
          "text": [
            "Drive already mounted at /content/drive; to attempt to forcibly remount, call drive.mount(\"/content/drive\", force_remount=True).\n"
          ]
        }
      ]
    },
    {
      "cell_type": "code",
      "source": [
        "df = pd.read_csv('/content/drive/MyDrive/Data Science/Data Lab/dataset.csv')\n",
        "df.head(5)"
      ],
      "metadata": {
        "id": "oQ1N1M6g6SZA",
        "colab": {
          "base_uri": "https://localhost:8080/",
          "height": 647
        },
        "outputId": "36579c5a-94b6-4321-a075-4b540dd88fad"
      },
      "execution_count": 6,
      "outputs": [
        {
          "output_type": "execute_result",
          "data": {
            "text/html": [
              "\n",
              "  <div id=\"df-70931654-feda-436b-8a60-6a0e4920136c\">\n",
              "    <div class=\"colab-df-container\">\n",
              "      <div>\n",
              "<style scoped>\n",
              "    .dataframe tbody tr th:only-of-type {\n",
              "        vertical-align: middle;\n",
              "    }\n",
              "\n",
              "    .dataframe tbody tr th {\n",
              "        vertical-align: top;\n",
              "    }\n",
              "\n",
              "    .dataframe thead th {\n",
              "        text-align: right;\n",
              "    }\n",
              "</style>\n",
              "<table border=\"1\" class=\"dataframe\">\n",
              "  <thead>\n",
              "    <tr style=\"text-align: right;\">\n",
              "      <th></th>\n",
              "      <th>category</th>\n",
              "      <th>subcategory</th>\n",
              "      <th>name</th>\n",
              "      <th>current_price</th>\n",
              "      <th>raw_price</th>\n",
              "      <th>currency</th>\n",
              "      <th>discount</th>\n",
              "      <th>likes_count</th>\n",
              "      <th>is_new</th>\n",
              "      <th>brand</th>\n",
              "      <th>...</th>\n",
              "      <th>variation_0_color</th>\n",
              "      <th>variation_1_color</th>\n",
              "      <th>variation_0_thumbnail</th>\n",
              "      <th>variation_0_image</th>\n",
              "      <th>variation_1_thumbnail</th>\n",
              "      <th>variation_1_image</th>\n",
              "      <th>image_url</th>\n",
              "      <th>url</th>\n",
              "      <th>id</th>\n",
              "      <th>model</th>\n",
              "    </tr>\n",
              "  </thead>\n",
              "  <tbody>\n",
              "    <tr>\n",
              "      <th>0</th>\n",
              "      <td>shoes</td>\n",
              "      <td>Sandales &amp; Mules</td>\n",
              "      <td>Fleur de broderie en cuir National Wind Weave ...</td>\n",
              "      <td>39.99</td>\n",
              "      <td>85.99</td>\n",
              "      <td>USD</td>\n",
              "      <td>54</td>\n",
              "      <td>905</td>\n",
              "      <td>False</td>\n",
              "      <td>NaN</td>\n",
              "      <td>...</td>\n",
              "      <td># 01</td>\n",
              "      <td># 02</td>\n",
              "      <td>https://imgaz1.chiccdn.com/thumb/list_grid/oau...</td>\n",
              "      <td>https://imgaz1.chiccdn.com/thumb/view/oaupload...</td>\n",
              "      <td>https://imgaz1.chiccdn.com/thumb/list_grid/oau...</td>\n",
              "      <td>https://imgaz1.chiccdn.com/thumb/view/oaupload...</td>\n",
              "      <td>https://imgaz1.chiccdn.com/thumb/view/oaupload...</td>\n",
              "      <td>https://fr.newchic.com/womens-sandals-3601/p-1...</td>\n",
              "      <td>1055349</td>\n",
              "      <td>SKU412144</td>\n",
              "    </tr>\n",
              "    <tr>\n",
              "      <th>1</th>\n",
              "      <td>shoes</td>\n",
              "      <td>Derbies &amp; Mocassins</td>\n",
              "      <td>Mocassins confortables à enfiler pour femmes</td>\n",
              "      <td>37.16</td>\n",
              "      <td>69.42</td>\n",
              "      <td>USD</td>\n",
              "      <td>47</td>\n",
              "      <td>29</td>\n",
              "      <td>False</td>\n",
              "      <td>NaN</td>\n",
              "      <td>...</td>\n",
              "      <td>Black</td>\n",
              "      <td>Beige</td>\n",
              "      <td>https://imgaz1.chiccdn.com/thumb/list_grid/oau...</td>\n",
              "      <td>https://imgaz1.chiccdn.com/thumb/view/oaupload...</td>\n",
              "      <td>https://imgaz1.chiccdn.com/thumb/list_grid/oau...</td>\n",
              "      <td>https://imgaz1.chiccdn.com/thumb/view/oaupload...</td>\n",
              "      <td>https://imgaz1.chiccdn.com/thumb/view/oaupload...</td>\n",
              "      <td>https://fr.newchic.com/flats-3615/p-1651230.html</td>\n",
              "      <td>1651230</td>\n",
              "      <td>SKUE60367</td>\n",
              "    </tr>\n",
              "    <tr>\n",
              "      <th>2</th>\n",
              "      <td>shoes</td>\n",
              "      <td>Escarpins</td>\n",
              "      <td>Escarpins en cuir gaufré à fleurs rétro</td>\n",
              "      <td>59.99</td>\n",
              "      <td>159.89</td>\n",
              "      <td>USD</td>\n",
              "      <td>63</td>\n",
              "      <td>287</td>\n",
              "      <td>False</td>\n",
              "      <td>Socofy</td>\n",
              "      <td>...</td>\n",
              "      <td>Red</td>\n",
              "      <td>NaN</td>\n",
              "      <td>https://imgaz1.chiccdn.com/thumb/list_grid/oau...</td>\n",
              "      <td>https://imgaz1.chiccdn.com/thumb/view/oaupload...</td>\n",
              "      <td>NaN</td>\n",
              "      <td>NaN</td>\n",
              "      <td>https://imgaz1.chiccdn.com/thumb/view/oaupload...</td>\n",
              "      <td>https://fr.newchic.com/socofy-heels-3598/p-162...</td>\n",
              "      <td>1627742</td>\n",
              "      <td>SKUE32434</td>\n",
              "    </tr>\n",
              "    <tr>\n",
              "      <th>3</th>\n",
              "      <td>shoes</td>\n",
              "      <td>Sandales &amp; Mules</td>\n",
              "      <td>Tassel Vintage Retro Chic Lace Up Peep Toe San...</td>\n",
              "      <td>59.12</td>\n",
              "      <td>140.69</td>\n",
              "      <td>USD</td>\n",
              "      <td>58</td>\n",
              "      <td>52</td>\n",
              "      <td>False</td>\n",
              "      <td>NaN</td>\n",
              "      <td>...</td>\n",
              "      <td>Beige</td>\n",
              "      <td>Noir</td>\n",
              "      <td>https://imgaz1.chiccdn.com/thumb/list_grid/oau...</td>\n",
              "      <td>https://imgaz1.chiccdn.com/thumb/view/oaupload...</td>\n",
              "      <td>https://imgaz1.chiccdn.com/thumb/list_grid/oau...</td>\n",
              "      <td>https://imgaz1.chiccdn.com/thumb/view/oaupload...</td>\n",
              "      <td>https://imgaz1.chiccdn.com/thumb/view/oaupload...</td>\n",
              "      <td>https://fr.newchic.com/womens-sandals-3601/p-1...</td>\n",
              "      <td>1065425</td>\n",
              "      <td>SKU430233</td>\n",
              "    </tr>\n",
              "    <tr>\n",
              "      <th>4</th>\n",
              "      <td>shoes</td>\n",
              "      <td>Sneakers &amp; Baskets</td>\n",
              "      <td>Baskets à plateforme en peluche chaudes</td>\n",
              "      <td>54.16</td>\n",
              "      <td>97.47</td>\n",
              "      <td>USD</td>\n",
              "      <td>44</td>\n",
              "      <td>81</td>\n",
              "      <td>False</td>\n",
              "      <td>NaN</td>\n",
              "      <td>...</td>\n",
              "      <td>White</td>\n",
              "      <td>Black</td>\n",
              "      <td>https://imgaz1.chiccdn.com/thumb/list_grid/oau...</td>\n",
              "      <td>https://imgaz1.chiccdn.com/thumb/view/oaupload...</td>\n",
              "      <td>https://imgaz1.chiccdn.com/thumb/list_grid/oau...</td>\n",
              "      <td>https://imgaz1.chiccdn.com/thumb/view/oaupload...</td>\n",
              "      <td>https://imgaz1.chiccdn.com/thumb/view/oaupload...</td>\n",
              "      <td>https://fr.newchic.com/sneakersandathletic-359...</td>\n",
              "      <td>1594075</td>\n",
              "      <td>SKUD93518</td>\n",
              "    </tr>\n",
              "  </tbody>\n",
              "</table>\n",
              "<p>5 rows × 22 columns</p>\n",
              "</div>\n",
              "      <button class=\"colab-df-convert\" onclick=\"convertToInteractive('df-70931654-feda-436b-8a60-6a0e4920136c')\"\n",
              "              title=\"Convert this dataframe to an interactive table.\"\n",
              "              style=\"display:none;\">\n",
              "        \n",
              "  <svg xmlns=\"http://www.w3.org/2000/svg\" height=\"24px\"viewBox=\"0 0 24 24\"\n",
              "       width=\"24px\">\n",
              "    <path d=\"M0 0h24v24H0V0z\" fill=\"none\"/>\n",
              "    <path d=\"M18.56 5.44l.94 2.06.94-2.06 2.06-.94-2.06-.94-.94-2.06-.94 2.06-2.06.94zm-11 1L8.5 8.5l.94-2.06 2.06-.94-2.06-.94L8.5 2.5l-.94 2.06-2.06.94zm10 10l.94 2.06.94-2.06 2.06-.94-2.06-.94-.94-2.06-.94 2.06-2.06.94z\"/><path d=\"M17.41 7.96l-1.37-1.37c-.4-.4-.92-.59-1.43-.59-.52 0-1.04.2-1.43.59L10.3 9.45l-7.72 7.72c-.78.78-.78 2.05 0 2.83L4 21.41c.39.39.9.59 1.41.59.51 0 1.02-.2 1.41-.59l7.78-7.78 2.81-2.81c.8-.78.8-2.07 0-2.86zM5.41 20L4 18.59l7.72-7.72 1.47 1.35L5.41 20z\"/>\n",
              "  </svg>\n",
              "      </button>\n",
              "      \n",
              "  <style>\n",
              "    .colab-df-container {\n",
              "      display:flex;\n",
              "      flex-wrap:wrap;\n",
              "      gap: 12px;\n",
              "    }\n",
              "\n",
              "    .colab-df-convert {\n",
              "      background-color: #E8F0FE;\n",
              "      border: none;\n",
              "      border-radius: 50%;\n",
              "      cursor: pointer;\n",
              "      display: none;\n",
              "      fill: #1967D2;\n",
              "      height: 32px;\n",
              "      padding: 0 0 0 0;\n",
              "      width: 32px;\n",
              "    }\n",
              "\n",
              "    .colab-df-convert:hover {\n",
              "      background-color: #E2EBFA;\n",
              "      box-shadow: 0px 1px 2px rgba(60, 64, 67, 0.3), 0px 1px 3px 1px rgba(60, 64, 67, 0.15);\n",
              "      fill: #174EA6;\n",
              "    }\n",
              "\n",
              "    [theme=dark] .colab-df-convert {\n",
              "      background-color: #3B4455;\n",
              "      fill: #D2E3FC;\n",
              "    }\n",
              "\n",
              "    [theme=dark] .colab-df-convert:hover {\n",
              "      background-color: #434B5C;\n",
              "      box-shadow: 0px 1px 3px 1px rgba(0, 0, 0, 0.15);\n",
              "      filter: drop-shadow(0px 1px 2px rgba(0, 0, 0, 0.3));\n",
              "      fill: #FFFFFF;\n",
              "    }\n",
              "  </style>\n",
              "\n",
              "      <script>\n",
              "        const buttonEl =\n",
              "          document.querySelector('#df-70931654-feda-436b-8a60-6a0e4920136c button.colab-df-convert');\n",
              "        buttonEl.style.display =\n",
              "          google.colab.kernel.accessAllowed ? 'block' : 'none';\n",
              "\n",
              "        async function convertToInteractive(key) {\n",
              "          const element = document.querySelector('#df-70931654-feda-436b-8a60-6a0e4920136c');\n",
              "          const dataTable =\n",
              "            await google.colab.kernel.invokeFunction('convertToInteractive',\n",
              "                                                     [key], {});\n",
              "          if (!dataTable) return;\n",
              "\n",
              "          const docLinkHtml = 'Like what you see? Visit the ' +\n",
              "            '<a target=\"_blank\" href=https://colab.research.google.com/notebooks/data_table.ipynb>data table notebook</a>'\n",
              "            + ' to learn more about interactive tables.';\n",
              "          element.innerHTML = '';\n",
              "          dataTable['output_type'] = 'display_data';\n",
              "          await google.colab.output.renderOutput(dataTable, element);\n",
              "          const docLink = document.createElement('div');\n",
              "          docLink.innerHTML = docLinkHtml;\n",
              "          element.appendChild(docLink);\n",
              "        }\n",
              "      </script>\n",
              "    </div>\n",
              "  </div>\n",
              "  "
            ],
            "text/plain": [
              "  category          subcategory  \\\n",
              "0    shoes     Sandales & Mules   \n",
              "1    shoes  Derbies & Mocassins   \n",
              "2    shoes            Escarpins   \n",
              "3    shoes     Sandales & Mules   \n",
              "4    shoes   Sneakers & Baskets   \n",
              "\n",
              "                                                name  current_price  \\\n",
              "0  Fleur de broderie en cuir National Wind Weave ...          39.99   \n",
              "1       Mocassins confortables à enfiler pour femmes          37.16   \n",
              "2            Escarpins en cuir gaufré à fleurs rétro          59.99   \n",
              "3  Tassel Vintage Retro Chic Lace Up Peep Toe San...          59.12   \n",
              "4            Baskets à plateforme en peluche chaudes          54.16   \n",
              "\n",
              "   raw_price currency  discount  likes_count  is_new   brand  ...  \\\n",
              "0      85.99      USD        54          905   False     NaN  ...   \n",
              "1      69.42      USD        47           29   False     NaN  ...   \n",
              "2     159.89      USD        63          287   False  Socofy  ...   \n",
              "3     140.69      USD        58           52   False     NaN  ...   \n",
              "4      97.47      USD        44           81   False     NaN  ...   \n",
              "\n",
              "  variation_0_color variation_1_color  \\\n",
              "0              # 01              # 02   \n",
              "1             Black             Beige   \n",
              "2               Red               NaN   \n",
              "3             Beige              Noir   \n",
              "4             White             Black   \n",
              "\n",
              "                               variation_0_thumbnail  \\\n",
              "0  https://imgaz1.chiccdn.com/thumb/list_grid/oau...   \n",
              "1  https://imgaz1.chiccdn.com/thumb/list_grid/oau...   \n",
              "2  https://imgaz1.chiccdn.com/thumb/list_grid/oau...   \n",
              "3  https://imgaz1.chiccdn.com/thumb/list_grid/oau...   \n",
              "4  https://imgaz1.chiccdn.com/thumb/list_grid/oau...   \n",
              "\n",
              "                                   variation_0_image  \\\n",
              "0  https://imgaz1.chiccdn.com/thumb/view/oaupload...   \n",
              "1  https://imgaz1.chiccdn.com/thumb/view/oaupload...   \n",
              "2  https://imgaz1.chiccdn.com/thumb/view/oaupload...   \n",
              "3  https://imgaz1.chiccdn.com/thumb/view/oaupload...   \n",
              "4  https://imgaz1.chiccdn.com/thumb/view/oaupload...   \n",
              "\n",
              "                               variation_1_thumbnail  \\\n",
              "0  https://imgaz1.chiccdn.com/thumb/list_grid/oau...   \n",
              "1  https://imgaz1.chiccdn.com/thumb/list_grid/oau...   \n",
              "2                                                NaN   \n",
              "3  https://imgaz1.chiccdn.com/thumb/list_grid/oau...   \n",
              "4  https://imgaz1.chiccdn.com/thumb/list_grid/oau...   \n",
              "\n",
              "                                   variation_1_image  \\\n",
              "0  https://imgaz1.chiccdn.com/thumb/view/oaupload...   \n",
              "1  https://imgaz1.chiccdn.com/thumb/view/oaupload...   \n",
              "2                                                NaN   \n",
              "3  https://imgaz1.chiccdn.com/thumb/view/oaupload...   \n",
              "4  https://imgaz1.chiccdn.com/thumb/view/oaupload...   \n",
              "\n",
              "                                           image_url  \\\n",
              "0  https://imgaz1.chiccdn.com/thumb/view/oaupload...   \n",
              "1  https://imgaz1.chiccdn.com/thumb/view/oaupload...   \n",
              "2  https://imgaz1.chiccdn.com/thumb/view/oaupload...   \n",
              "3  https://imgaz1.chiccdn.com/thumb/view/oaupload...   \n",
              "4  https://imgaz1.chiccdn.com/thumb/view/oaupload...   \n",
              "\n",
              "                                                 url       id      model  \n",
              "0  https://fr.newchic.com/womens-sandals-3601/p-1...  1055349  SKU412144  \n",
              "1   https://fr.newchic.com/flats-3615/p-1651230.html  1651230  SKUE60367  \n",
              "2  https://fr.newchic.com/socofy-heels-3598/p-162...  1627742  SKUE32434  \n",
              "3  https://fr.newchic.com/womens-sandals-3601/p-1...  1065425  SKU430233  \n",
              "4  https://fr.newchic.com/sneakersandathletic-359...  1594075  SKUD93518  \n",
              "\n",
              "[5 rows x 22 columns]"
            ]
          },
          "metadata": {},
          "execution_count": 6
        }
      ]
    },
    {
      "cell_type": "code",
      "source": [
        "df.columns"
      ],
      "metadata": {
        "colab": {
          "base_uri": "https://localhost:8080/"
        },
        "id": "HNWgCLpOtZmy",
        "outputId": "291cbf49-be08-4bfe-94db-b11a2649a667"
      },
      "execution_count": 160,
      "outputs": [
        {
          "output_type": "execute_result",
          "data": {
            "text/plain": [
              "Index(['category', 'subcategory', 'name', 'current_price', 'raw_price',\n",
              "       'currency', 'discount', 'likes_count', 'is_new', 'brand', 'brand_url',\n",
              "       'codCountry', 'variation_0_color', 'variation_1_color',\n",
              "       'variation_0_thumbnail', 'variation_0_image', 'variation_1_thumbnail',\n",
              "       'variation_1_image', 'image_url', 'url', 'id', 'model'],\n",
              "      dtype='object')"
            ]
          },
          "metadata": {},
          "execution_count": 160
        }
      ]
    },
    {
      "cell_type": "markdown",
      "source": [
        "### Exploratory Data Analysis (EDA)\n",
        "\n",
        "Kita akan melihat sekilas dataset ini untuk mengetahui karakteristik dataset serta menentukan keputusan apa yang bisa diambil.\n",
        "\n",
        "Secara sekilas, terdapat beberapa kolom yang memiliki data missing, seperti `brand`, `brand_url`, `cod_country`, dan atribut lainnya. Namun hampir seluruh atribut utama memiliki data yang lengkap. Untuk tahap ini, kita bisa mengabaikan step untuk melakukan data cleaning."
      ],
      "metadata": {
        "id": "kn4lItqg-ZKE"
      }
    },
    {
      "cell_type": "code",
      "source": [
        "# data cleaning:\n",
        "df.isna().sum()"
      ],
      "metadata": {
        "id": "wNlQOFazQH8E",
        "colab": {
          "base_uri": "https://localhost:8080/"
        },
        "outputId": "10c6f1b1-46fe-4491-c28f-4514c36d1e61"
      },
      "execution_count": 6,
      "outputs": [
        {
          "output_type": "execute_result",
          "data": {
            "text/plain": [
              "category                   0\n",
              "subcategory                0\n",
              "name                       0\n",
              "current_price              0\n",
              "raw_price                  0\n",
              "currency                   0\n",
              "discount                   0\n",
              "likes_count                0\n",
              "is_new                     0\n",
              "brand                    763\n",
              "brand_url                792\n",
              "codCountry               129\n",
              "variation_0_color        153\n",
              "variation_1_color        282\n",
              "variation_0_thumbnail    153\n",
              "variation_0_image        153\n",
              "variation_1_thumbnail    282\n",
              "variation_1_image        282\n",
              "image_url                  0\n",
              "url                        0\n",
              "id                         0\n",
              "model                      0\n",
              "dtype: int64"
            ]
          },
          "metadata": {},
          "execution_count": 6
        }
      ]
    },
    {
      "cell_type": "markdown",
      "source": [
        "Berikutnya kita coba analisis bagaimana distribusi label kategori dan subkategorinya. Kategori telah difilter secara manual untuk mendapatkan 100 item pada setiap kategori yang ada."
      ],
      "metadata": {
        "id": "Nes9lb3t_gLr"
      }
    },
    {
      "cell_type": "code",
      "execution_count": 7,
      "metadata": {
        "id": "18gMaDIzwBeF",
        "colab": {
          "base_uri": "https://localhost:8080/",
          "height": 329
        },
        "outputId": "148186d0-1444-4565-f7e2-f0bd6fdf42f3"
      },
      "outputs": [
        {
          "output_type": "display_data",
          "data": {
            "image/png": "[encoded data removed]",
            "text/plain": [
              "<Figure size 432x288 with 1 Axes>"
            ]
          },
          "metadata": {
            "needs_background": "light"
          }
        }
      ],
      "source": [
        "df['category'].value_counts().plot(kind='bar')\n",
        "plt.title('Category Count')\n",
        "plt.show()"
      ]
    },
    {
      "cell_type": "code",
      "source": [
        "df['subcategory'].value_counts().head(10).plot(kind='bar')\n",
        "plt.title('Top 10 Sub-Category Count')\n",
        "plt.show()"
      ],
      "metadata": {
        "id": "khL2npU-0oOr",
        "colab": {
          "base_uri": "https://localhost:8080/",
          "height": 375
        },
        "outputId": "4989256f-4129-4b6f-f21a-764ed38860f9"
      },
      "execution_count": 9,
      "outputs": [
        {
          "output_type": "display_data",
          "data": {
            "image/png": "[encoded data removed]",
            "text/plain": [
              "<Figure size 432x288 with 1 Axes>"
            ]
          },
          "metadata": {
            "needs_background": "light"
          }
        }
      ]
    },
    {
      "cell_type": "markdown",
      "source": [
        "Selain dari kategori, kita juga bisa menganalisis distribusi katalog produk dijual di negara mana saja. Sebagai salah satu platform e-commerce multinasional, Newchic.com menjual produknya ke beberapa negara. Pada dataset ini, terdapat 6 variasi negara dari Asia Tenggara, yaitu Indonesia, Malaysia, Filipina, Singapura, Thailand, dan Vietnam.\n",
        "\n",
        "Untuk sementara, atribut ini belum digunakan. Namun bisa dilakukan untuk konteks eksplorasi."
      ],
      "metadata": {
        "id": "_L_KOWhb_uZS"
      }
    },
    {
      "cell_type": "code",
      "source": [
        "df['codCountry'].value_counts()"
      ],
      "metadata": {
        "id": "Ir7QhBcBwjWR",
        "colab": {
          "base_uri": "https://localhost:8080/"
        },
        "outputId": "e79f56b5-a39b-498b-83d7-16068bd4b568"
      },
      "execution_count": 10,
      "outputs": [
        {
          "output_type": "execute_result",
          "data": {
            "text/plain": [
              "ID,MY,PH,SG,TH,VN    736\n",
              "TH                     9\n",
              "ID,MY,TH               8\n",
              "PH,TH,VN               8\n",
              "VN                     8\n",
              "ID,VN                  1\n",
              "SG                     1\n",
              "Name: codCountry, dtype: int64"
            ]
          },
          "metadata": {},
          "execution_count": 10
        }
      ]
    },
    {
      "cell_type": "markdown",
      "source": [
        "## B. Clustering\n",
        "\n",
        "Selanjutnya, kita coba ambil atribut numerik yang tersedia pada dataset ini. Terdapat 4 atribut yang bisa kita gunakan, yaitu:\n",
        "1. `current_price`\n",
        "2. `raw_price`\n",
        "3. `discount`\n",
        "4. `likes_count` \n",
        "\n",
        "Hipotesis yang akan kita coba eksplorasi adalah bagaimana performa clustering pada katalog produk e-commerce berdasarkan atribut harga, diskon, dan jumlah pengguna yang menyukai produk.\n",
        "\n",
        "Pertama kita akan coba visualisasikan distribusi data ke dalam scatter plot. Untuk mempermudah visualisasi, kita gunakan **Principal Component Analysis (PCA)** sebagai metode untuk *dimensionality reduction*."
      ],
      "metadata": {
        "id": "edscSqEeAQQQ"
      }
    },
    {
      "cell_type": "code",
      "source": [
        "def visualize_scatter_by_label(X_pca, y):\n",
        "  fig, ax = plt.subplots()\n",
        "  for g in np.unique(y):\n",
        "    i = np.where(y == g)\n",
        "    ax.scatter(X_pca[i,0], X_pca[i,1], label=g)\n",
        "  # ax.legend()\n",
        "  plt.show()"
      ],
      "metadata": {
        "id": "rsBpR_CR4nv8"
      },
      "execution_count": 8,
      "outputs": []
    },
    {
      "cell_type": "markdown",
      "source": [
        "Sebagai tambahan, atribut-atribut numerik yang digunakan akan di-*scaling* terlebih dahulu. "
      ],
      "metadata": {
        "id": "APifaxbYBJrw"
      }
    },
    {
      "cell_type": "markdown",
      "source": [
        "#### **TO DO**\n",
        "\n",
        "Isi `features_list` dengan nama-nama fitur yang Anda gunakan. Berikut adalah pembagian fiturnya:\n",
        "- Nama depan dimulai dengan huruf A-D: `[current_price, raw_price, discount]` \n",
        "- Nama depan dimulai dengan huruf E-I: `[current_price, raw_price, likes_count]`\n",
        "- Nama depan dimulai dengan huruf J-M: `[current_price, discount, likes_count]`\n",
        "- Nama depan dimulai dengan huruf N-Z: `[raw_price, discount, likes_count]`"
      ],
      "metadata": {
        "id": "D24Ws-7rMQoA"
      }
    },
    {
      "cell_type": "code",
      "source": [
        "features_list = ['current_price', 'raw_price', 'likes_count'] \n",
        "\n",
        "X = df[features_list].to_numpy()\n",
        "X = StandardScaler().fit_transform(X)\n",
        "    \n",
        "pca = PCA(n_components=2)\n",
        "\n",
        "X_pca = pca.fit_transform(X)\n",
        "plt.scatter(X_pca[:,0], X_pca[:,1])"
      ],
      "metadata": {
        "id": "89D08AI92x2N",
        "colab": {
          "base_uri": "https://localhost:8080/",
          "height": 283
        },
        "outputId": "24383f96-fd01-4c3b-9373-ca8cd2ebb705"
      },
      "execution_count": 7,
      "outputs": [
        {
          "output_type": "execute_result",
          "data": {
            "text/plain": [
              "<matplotlib.collections.PathCollection at 0x7f6948243cd0>"
            ]
          },
          "metadata": {},
          "execution_count": 7
        },
        {
          "output_type": "display_data",
          "data": {
            "image/png": "[encoded data removed]",
            "text/plain": [
              "<Figure size 432x288 with 1 Axes>"
            ]
          },
          "metadata": {
            "needs_background": "light"
          }
        }
      ]
    },
    {
      "cell_type": "markdown",
      "source": [
        "### B1. Partition-based Clustering\n",
        "\n",
        "Salah satu algoritma yang umum digunakan adalah K-Means. Kita coba melakukan fitting algoritma K-Means clustering ke dataset yang tersedia. Untuk jumlah cluster, kita akan coba sesuaikan dengan jumlah kategori yang ada, yaitu"
      ],
      "metadata": {
        "id": "A3DnCjFCBkaI"
      }
    },
    {
      "cell_type": "code",
      "source": [
        "from sklearn.cluster import KMeans\n",
        "\n",
        "k_means = KMeans(n_clusters=9)\n",
        "k_means.fit(X)\n",
        "\n",
        "y = k_means.predict(X)\n",
        "\n",
        "visualize_scatter_by_label(X_pca, y)"
      ],
      "metadata": {
        "id": "CZw3k4Xs3Blu",
        "colab": {
          "base_uri": "https://localhost:8080/",
          "height": 265
        },
        "outputId": "aab25cd4-9793-4cfa-d573-785e575c7de9"
      },
      "execution_count": 167,
      "outputs": [
        {
          "output_type": "display_data",
          "data": {
            "image/png": "[encoded data removed]",
            "text/plain": [
              "<Figure size 432x288 with 1 Axes>"
            ]
          },
          "metadata": {
            "needs_background": "light"
          }
        }
      ]
    },
    {
      "cell_type": "markdown",
      "source": [
        "#### **Soal 1**\n",
        "\n",
        "a. Lakukan evaluasi Silhouette pada hasil prediksi sebelumnya, lalu berikan analisis apakah skor tersebut sudah baik atau kurang baik.\n",
        "\n",
        "b. Lakukan elbow method untuk mendapatkan jumlah cluster terbaik."
      ],
      "metadata": {
        "id": "BWxBZaelB6Pq"
      }
    },
    {
      "cell_type": "markdown",
      "source": [
        "> a. Evaluasi Silhouette "
      ],
      "metadata": {
        "id": "XnjCmEPa2jnn"
      }
    },
    {
      "cell_type": "code",
      "source": [
        "# Evaluasi Silhouette \n",
        "score = silhouette_score(X, k_means.labels_)\n",
        "print(f'Silhouette coefficient: {score}')"
      ],
      "metadata": {
        "id": "RzVmlBWYCi-V",
        "colab": {
          "base_uri": "https://localhost:8080/"
        },
        "outputId": "e10f7264-835e-46a0-c017-55a02068f375"
      },
      "execution_count": 55,
      "outputs": [
        {
          "output_type": "stream",
          "name": "stdout",
          "text": [
            "Silhouette coefficient: 0.37895278450539993\n"
          ]
        }
      ]
    },
    {
      "cell_type": "markdown",
      "source": [
        "**Analisis silhouette skor**\n",
        "\n",
        "Silhouette skor berkisar antara [-1, 1], dengan -1 adalah hasil terburuk, 1 adalah hasil terbaik, dan 0 menandakan kluster yang terbentuk overlaping. Skor silhoutte pada model ini tidak terlalu tinggi yaitu sekitar 0.38, skor tersebut bukan hasil terbaik namun tidak buruk juga karena nilainya bukan 0 dan tidak negatif."
      ],
      "metadata": {
        "id": "7yCnhfH-xGDc"
      }
    },
    {
      "cell_type": "markdown",
      "source": [
        "> b. Elbow Method"
      ],
      "metadata": {
        "id": "3_RDerDC2qqR"
      }
    },
    {
      "cell_type": "code",
      "source": [
        "# Elbow Method\n",
        "inertias = []\n",
        "for k in range(1, 10):\n",
        "    k_means = KMeans(n_clusters=k)\n",
        "    k_means.fit(X)\n",
        "    inertias.append(k_means.inertia_)"
      ],
      "metadata": {
        "id": "rCmyvZfvsZMn"
      },
      "execution_count": 41,
      "outputs": []
    },
    {
      "cell_type": "code",
      "source": [
        "# Plot elbow\n",
        "plt.figure(figsize=(7,5))\n",
        "plt.plot(range(1,10), inertias, 'bx-')\n",
        "plt.xlabel('Nilai K')\n",
        "plt.ylabel('Inertia')\n",
        "plt.title('Elbow Method')\n",
        "plt.show()"
      ],
      "metadata": {
        "colab": {
          "base_uri": "https://localhost:8080/",
          "height": 350
        },
        "id": "nJBHjeO5zZ0p",
        "outputId": "3bd314c3-5675-494f-9031-6c0e1225f0e0"
      },
      "execution_count": 54,
      "outputs": [
        {
          "output_type": "display_data",
          "data": {
            "image/png": "[encoded data removed]",
            "text/plain": [
              "<Figure size 504x360 with 1 Axes>"
            ]
          },
          "metadata": {
            "needs_background": "light"
          }
        }
      ]
    },
    {
      "cell_type": "markdown",
      "source": [
        "Dari grafik elbow diatas, elbow point ada saat k = 4. Jadi, cluster yang paling baik adalah 4 cluster."
      ],
      "metadata": {
        "id": "m5ixwiq_6n9N"
      }
    },
    {
      "cell_type": "markdown",
      "source": [
        "#### **Soal 2**\n",
        "\n",
        "Sebelumnya sudah dilakukan implementasi clustering dengan k-Means. Implementasikan algoritma *partition-based clustering* lainnya:\n",
        "- Implementasikan **k-Modes** (Anda perlu melakukan binning data agar menjadi ordinal/kategorikal)\n",
        "\n",
        "Selain binning data, buat juga definisi distance function antar bin data. Jumlah bin data dibebaskan ke peserta kuliah dengan batasan maksimum 10 bin data per atribut.\n",
        "****\n",
        "**Penjelasan Algoritma k-Modes**\n",
        "\n",
        "Serupa dengan k-Means, algoritma k-Modes dilakukan secara iteratif hingga konvergen. Kriteria konvergen adalah apabila \n",
        "1. **Cluster Assignment**: setiap *instance* di-*assign* ke satu *cluster* di mana *centroid*nya memiliki kedekatan paling tinggi (*distance* paling kecil) ke *instance* tersebut.\n",
        "2. **Mean Recomputation**: Pada akhir epoch, *centroid* untuk masing-masing *cluster* dihitung ulang berdasarkan **mode/modus** dari *cluster* tersebut. \n",
        "3. **Convergence** Jika cluster pada iterasi ini sama persis dengan cluster pada iterasi sebelumnya, maka solusi telah dianggap konvergen dan proses training diakhiri. Jika belum, maka kembali ke langkah pertama dan dilakukan terus-menerus hingga konvergen atau sudah memenuhi batas epoch.\n",
        "\n",
        "Satu epoch merupakan satu iterasi dari nomor 1-3. Untuk solusi yang diharapkan, cukup dibatasi hingga 3 epoch saja maksimal.\n",
        "\n",
        "**Pseudocode**\n",
        "```{r, eval=FALSE}\n",
        "Initialize k number of centroids with random values\n",
        "\n",
        "While (not converge) and (Iter < Max_Epoch) do\n",
        "\n",
        "  For each instance x_i do\n",
        "    Find the nearest Centroid(c_1, c_2, .., c_k)\n",
        "    Assign instance x_i to that cluster\n",
        "  endfor\n",
        "\n",
        "  For each cluster j = 1..k do\n",
        "    new centroid c_j := mode of all points in cluster j\n",
        "  endfor\n",
        "\n",
        "endwhile\n",
        "\n",
        "```\n",
        "\n",
        "Referensi pseudocode: https://towardsdatascience.com/k-means-clustering-introduction-to-machine-learning-algorithms-c96bf0d5d57a \n",
        "  "
      ],
      "metadata": {
        "id": "2Jd8sXOrCmB_"
      }
    },
    {
      "cell_type": "markdown",
      "source": [
        "> **Binning**"
      ],
      "metadata": {
        "id": "3-IHuVTJgsGc"
      }
    },
    {
      "cell_type": "code",
      "source": [
        "data = df[features_list].copy()\n",
        "def binning():\n",
        "  all_bins = [] \n",
        "  for i in features_list:\n",
        "    if i == 'likes_count':\n",
        "      bins = np.linspace(min(data[i]), max(data[i]), 6)\n",
        "    else:\n",
        "      bins = np.linspace(min(data[i]), max(data[i]), 4)\n",
        "    all_bins.append(bins)\n",
        "  return all_bins"
      ],
      "metadata": {
        "id": "0J8hM96HFype"
      },
      "execution_count": 9,
      "outputs": []
    },
    {
      "cell_type": "code",
      "source": [
        "all_bins = binning()\n",
        "kategori_harga = ['Murah', 'Standar', 'Mahal']\n",
        "kategori_like = ['Sangat Sedikit','Sedikit', 'Standar', 'Banyak', 'Sangat Banyak']"
      ],
      "metadata": {
        "id": "UvfltxglUiuP"
      },
      "execution_count": 10,
      "outputs": []
    },
    {
      "cell_type": "code",
      "source": [
        "data['kategori_current_rice'] = pd.cut(data['current_price'], all_bins[0], labels=kategori_harga, include_lowest=True)\n",
        "data['kategori_raw_rice'] = pd.cut(data['raw_price'], all_bins[1], labels=kategori_harga, include_lowest=True)\n",
        "data['kategori_likes'] = pd.cut(data['likes_count'], all_bins[2], labels=kategori_like, include_lowest=True)\n",
        "data_kategori = data[['kategori_current_rice', 'kategori_raw_rice', 'kategori_likes']].copy()\n",
        "data_kategori_arr = data_kategori.to_numpy()\n",
        "data_kategori_arr"
      ],
      "metadata": {
        "colab": {
          "base_uri": "https://localhost:8080/"
        },
        "id": "3QCig1ovW86u",
        "outputId": "9201c09c-8918-4a86-cb5f-91b34d753c7a"
      },
      "execution_count": 121,
      "outputs": [
        {
          "output_type": "execute_result",
          "data": {
            "text/plain": [
              "array([['Murah', 'Murah', 'Sangat Sedikit'],\n",
              "       ['Murah', 'Murah', 'Sangat Sedikit'],\n",
              "       ['Standar', 'Standar', 'Sangat Sedikit'],\n",
              "       ...,\n",
              "       ['Murah', 'Murah', 'Sangat Sedikit'],\n",
              "       ['Murah', 'Murah', 'Sangat Sedikit'],\n",
              "       ['Murah', 'Murah', 'Sangat Sedikit']], dtype=object)"
            ]
          },
          "metadata": {},
          "execution_count": 121
        }
      ]
    },
    {
      "cell_type": "markdown",
      "source": [
        "> **Dist**"
      ],
      "metadata": {
        "id": "gLHalyzLw52q"
      }
    },
    {
      "cell_type": "code",
      "source": [
        "def dist(data1, data2):\n",
        "   dist = 0\n",
        "   for i in range(0,3):\n",
        "     if data1[i] != data2[i]:\n",
        "       dist += 1\n",
        "   return dist\n"
      ],
      "metadata": {
        "id": "K3Jd30EKw893"
      },
      "execution_count": 12,
      "outputs": []
    },
    {
      "cell_type": "markdown",
      "source": [
        "> **K-modes**"
      ],
      "metadata": {
        "id": "HDyDwih3g4eE"
      }
    },
    {
      "cell_type": "code",
      "source": [
        "# K-modes untuk Membuat 3 cluster\n",
        "def kmode():\n",
        "  # Memilih 3 centroid\n",
        "  c1 = data_kategori_arr[0]\n",
        "  c2 = data_kategori_arr[3]\n",
        "  c3  = data_kategori_arr[631]\n",
        "\n",
        "  cluster_column = []\n",
        "  iter = 0\n",
        "  converge = False\n",
        "  while (not converge) and (iter < 3):\n",
        "    prev_cluster = cluster_column.copy()\n",
        "    cluster_1 = []\n",
        "    cluster_2 = []\n",
        "    cluster_3 = []\n",
        "    cluster_column = []\n",
        "    \n",
        "    for i in range(0,len(data_kategori_arr)):\n",
        "      row = data_kategori_arr[i]\n",
        "      # Hitung distance\n",
        "      dist_c1 = dist(c1,row)\n",
        "      dist_c2 = dist(c2,row)\n",
        "      dist_c3 = dist(c3,row)\n",
        "      distances = [dist_c1,dist_c2,dist_c3]\n",
        "\n",
        "      # cluster assignment\n",
        "      pos = distances.index(min(distances))\n",
        "      if(pos == 0):\n",
        "        cluster_1.append(row)\n",
        "        cluster_column.append(1)\n",
        "      elif(pos == 1):\n",
        "        cluster_2.append(row)\n",
        "        cluster_column.append(2)\n",
        "      else:\n",
        "        cluster_3.append(row)\n",
        "        cluster_column.append(3)\n",
        "    \n",
        "    # Cari centroid baru dengan modus\n",
        "    \n",
        "    c1 = stats.mode(np.array(cluster_1))[0][0]\n",
        "    c2 = stats.mode(np.array(cluster_2))[0][0]\n",
        "    c3 = stats.mode(np.array(cluster_3))[0][0]\n",
        "\n",
        "    # Cek Konvergen\n",
        "    if (prev_cluster == cluster_column):\n",
        "      converge = True\n",
        "    iter += 1\n",
        "    \n",
        "  data_kategori['cluster']= cluster_column\n",
        "  return data_kategori\n",
        "\n",
        "\n"
      ],
      "metadata": {
        "id": "Ww-M2UTkg8Vi"
      },
      "execution_count": 158,
      "outputs": []
    },
    {
      "cell_type": "code",
      "source": [
        "hasil_cluster = kmode()\n",
        "hasil_cluster.head()"
      ],
      "metadata": {
        "colab": {
          "base_uri": "https://localhost:8080/",
          "height": 206
        },
        "id": "UM9bHv7_80UL",
        "outputId": "bb339dbd-f457-4eaa-d29d-cd545f6e5343"
      },
      "execution_count": 159,
      "outputs": [
        {
          "output_type": "execute_result",
          "data": {
            "text/html": [
              "\n",
              "  <div id=\"df-81098ca3-be7d-47c7-bdc2-083faeea023e\">\n",
              "    <div class=\"colab-df-container\">\n",
              "      <div>\n",
              "<style scoped>\n",
              "    .dataframe tbody tr th:only-of-type {\n",
              "        vertical-align: middle;\n",
              "    }\n",
              "\n",
              "    .dataframe tbody tr th {\n",
              "        vertical-align: top;\n",
              "    }\n",
              "\n",
              "    .dataframe thead th {\n",
              "        text-align: right;\n",
              "    }\n",
              "</style>\n",
              "<table border=\"1\" class=\"dataframe\">\n",
              "  <thead>\n",
              "    <tr style=\"text-align: right;\">\n",
              "      <th></th>\n",
              "      <th>kategori_current_rice</th>\n",
              "      <th>kategori_raw_rice</th>\n",
              "      <th>kategori_likes</th>\n",
              "      <th>cluster</th>\n",
              "    </tr>\n",
              "  </thead>\n",
              "  <tbody>\n",
              "    <tr>\n",
              "      <th>0</th>\n",
              "      <td>Murah</td>\n",
              "      <td>Murah</td>\n",
              "      <td>Sangat Sedikit</td>\n",
              "      <td>1</td>\n",
              "    </tr>\n",
              "    <tr>\n",
              "      <th>1</th>\n",
              "      <td>Murah</td>\n",
              "      <td>Murah</td>\n",
              "      <td>Sangat Sedikit</td>\n",
              "      <td>1</td>\n",
              "    </tr>\n",
              "    <tr>\n",
              "      <th>2</th>\n",
              "      <td>Standar</td>\n",
              "      <td>Standar</td>\n",
              "      <td>Sangat Sedikit</td>\n",
              "      <td>2</td>\n",
              "    </tr>\n",
              "    <tr>\n",
              "      <th>3</th>\n",
              "      <td>Standar</td>\n",
              "      <td>Standar</td>\n",
              "      <td>Sangat Sedikit</td>\n",
              "      <td>2</td>\n",
              "    </tr>\n",
              "    <tr>\n",
              "      <th>4</th>\n",
              "      <td>Murah</td>\n",
              "      <td>Murah</td>\n",
              "      <td>Sangat Sedikit</td>\n",
              "      <td>1</td>\n",
              "    </tr>\n",
              "  </tbody>\n",
              "</table>\n",
              "</div>\n",
              "      <button class=\"colab-df-convert\" onclick=\"convertToInteractive('df-81098ca3-be7d-47c7-bdc2-083faeea023e')\"\n",
              "              title=\"Convert this dataframe to an interactive table.\"\n",
              "              style=\"display:none;\">\n",
              "        \n",
              "  <svg xmlns=\"http://www.w3.org/2000/svg\" height=\"24px\"viewBox=\"0 0 24 24\"\n",
              "       width=\"24px\">\n",
              "    <path d=\"M0 0h24v24H0V0z\" fill=\"none\"/>\n",
              "    <path d=\"M18.56 5.44l.94 2.06.94-2.06 2.06-.94-2.06-.94-.94-2.06-.94 2.06-2.06.94zm-11 1L8.5 8.5l.94-2.06 2.06-.94-2.06-.94L8.5 2.5l-.94 2.06-2.06.94zm10 10l.94 2.06.94-2.06 2.06-.94-2.06-.94-.94-2.06-.94 2.06-2.06.94z\"/><path d=\"M17.41 7.96l-1.37-1.37c-.4-.4-.92-.59-1.43-.59-.52 0-1.04.2-1.43.59L10.3 9.45l-7.72 7.72c-.78.78-.78 2.05 0 2.83L4 21.41c.39.39.9.59 1.41.59.51 0 1.02-.2 1.41-.59l7.78-7.78 2.81-2.81c.8-.78.8-2.07 0-2.86zM5.41 20L4 18.59l7.72-7.72 1.47 1.35L5.41 20z\"/>\n",
              "  </svg>\n",
              "      </button>\n",
              "      \n",
              "  <style>\n",
              "    .colab-df-container {\n",
              "      display:flex;\n",
              "      flex-wrap:wrap;\n",
              "      gap: 12px;\n",
              "    }\n",
              "\n",
              "    .colab-df-convert {\n",
              "      background-color: #E8F0FE;\n",
              "      border: none;\n",
              "      border-radius: 50%;\n",
              "      cursor: pointer;\n",
              "      display: none;\n",
              "      fill: #1967D2;\n",
              "      height: 32px;\n",
              "      padding: 0 0 0 0;\n",
              "      width: 32px;\n",
              "    }\n",
              "\n",
              "    .colab-df-convert:hover {\n",
              "      background-color: #E2EBFA;\n",
              "      box-shadow: 0px 1px 2px rgba(60, 64, 67, 0.3), 0px 1px 3px 1px rgba(60, 64, 67, 0.15);\n",
              "      fill: #174EA6;\n",
              "    }\n",
              "\n",
              "    [theme=dark] .colab-df-convert {\n",
              "      background-color: #3B4455;\n",
              "      fill: #D2E3FC;\n",
              "    }\n",
              "\n",
              "    [theme=dark] .colab-df-convert:hover {\n",
              "      background-color: #434B5C;\n",
              "      box-shadow: 0px 1px 3px 1px rgba(0, 0, 0, 0.15);\n",
              "      filter: drop-shadow(0px 1px 2px rgba(0, 0, 0, 0.3));\n",
              "      fill: #FFFFFF;\n",
              "    }\n",
              "  </style>\n",
              "\n",
              "      <script>\n",
              "        const buttonEl =\n",
              "          document.querySelector('#df-81098ca3-be7d-47c7-bdc2-083faeea023e button.colab-df-convert');\n",
              "        buttonEl.style.display =\n",
              "          google.colab.kernel.accessAllowed ? 'block' : 'none';\n",
              "\n",
              "        async function convertToInteractive(key) {\n",
              "          const element = document.querySelector('#df-81098ca3-be7d-47c7-bdc2-083faeea023e');\n",
              "          const dataTable =\n",
              "            await google.colab.kernel.invokeFunction('convertToInteractive',\n",
              "                                                     [key], {});\n",
              "          if (!dataTable) return;\n",
              "\n",
              "          const docLinkHtml = 'Like what you see? Visit the ' +\n",
              "            '<a target=\"_blank\" href=https://colab.research.google.com/notebooks/data_table.ipynb>data table notebook</a>'\n",
              "            + ' to learn more about interactive tables.';\n",
              "          element.innerHTML = '';\n",
              "          dataTable['output_type'] = 'display_data';\n",
              "          await google.colab.output.renderOutput(dataTable, element);\n",
              "          const docLink = document.createElement('div');\n",
              "          docLink.innerHTML = docLinkHtml;\n",
              "          element.appendChild(docLink);\n",
              "        }\n",
              "      </script>\n",
              "    </div>\n",
              "  </div>\n",
              "  "
            ],
            "text/plain": [
              "  kategori_current_rice kategori_raw_rice  kategori_likes  cluster\n",
              "0                 Murah             Murah  Sangat Sedikit        1\n",
              "1                 Murah             Murah  Sangat Sedikit        1\n",
              "2               Standar           Standar  Sangat Sedikit        2\n",
              "3               Standar           Standar  Sangat Sedikit        2\n",
              "4                 Murah             Murah  Sangat Sedikit        1"
            ]
          },
          "metadata": {},
          "execution_count": 159
        }
      ]
    },
    {
      "cell_type": "markdown",
      "source": [
        "### B2. Hierarchical Clustering\n",
        "\n",
        "Selanjutnya, kita akan mengeksplorasi hierarchical clustering. Berbeda dengan partition-based, pendekatan ini memandang clustering sebagai sebuah dekomposisi dari dataset berdasarkan nilai *similarity* antar instance."
      ],
      "metadata": {
        "id": "zaQHj1lfGEbp"
      }
    },
    {
      "cell_type": "code",
      "source": [
        "from sklearn.cluster import AgglomerativeClustering\n",
        "\n",
        "agg_cluster = AgglomerativeClustering(n_clusters=9)\n",
        "y_agg = agg_cluster.fit_predict(X)\n",
        "\n",
        "visualize_scatter_by_label(X_pca, y_agg)"
      ],
      "metadata": {
        "id": "4x4qj64hG97C",
        "colab": {
          "base_uri": "https://localhost:8080/",
          "height": 265
        },
        "outputId": "c6c880fe-e68b-4b39-856d-6c3d53b1160a"
      },
      "execution_count": 169,
      "outputs": [
        {
          "output_type": "display_data",
          "data": {
            "image/png": "[encoded data removed]",
            "text/plain": [
              "<Figure size 432x288 with 1 Axes>"
            ]
          },
          "metadata": {
            "needs_background": "light"
          }
        }
      ]
    },
    {
      "cell_type": "markdown",
      "source": [
        "#### **Soal 3**\n",
        "\n",
        "a. Lakukan eksplorasi parameter berapa jumlah cluster yang paling pas untuk dataset ini dengan algoritma hierarchical clustering.\n",
        "\n",
        "b. Di bawah telah disediakan centroid means untuk masing-masing kategori dari katalog produk. Visualisasikan dendrogram dengan centroid dari masing-masing kategori."
      ],
      "metadata": {
        "id": "Wv42__s3G3CV"
      }
    },
    {
      "cell_type": "code",
      "source": [
        "# Mean centroid untuk setiap category\n",
        "category_centroids = []\n",
        "\n",
        "for i in range(9):\n",
        "  start = i*100\n",
        "  end = i*100+100\n",
        "  category_centroids.append(np.mean(X[start:end], axis=0))\n",
        "\n",
        "category_centroids = np.array(category_centroids)\n",
        "category_centroids"
      ],
      "metadata": {
        "id": "VYF4gsbahQkf",
        "colab": {
          "base_uri": "https://localhost:8080/"
        },
        "outputId": "6af32d95-4a48-479d-b850-a9c39b1e0f7c"
      },
      "execution_count": 104,
      "outputs": [
        {
          "output_type": "execute_result",
          "data": {
            "text/plain": [
              "array([[ 0.73717267,  0.84500604,  0.22354217],\n",
              "       [-0.19073703, -0.04530138, -0.17811265],\n",
              "       [-0.68152127, -0.71987535, -0.2117535 ],\n",
              "       [-0.17987028, -0.24996721,  0.00774066],\n",
              "       [ 0.12515847,  0.17096898,  0.00701376],\n",
              "       [-0.19381669, -0.19395298, -0.03098847],\n",
              "       [ 0.09599522,  0.18247692,  0.23293369],\n",
              "       [ 0.3349898 ,  0.09382513,  0.07987803],\n",
              "       [-0.0473709 , -0.08318015, -0.13025368]])"
            ]
          },
          "metadata": {},
          "execution_count": 104
        }
      ]
    },
    {
      "cell_type": "markdown",
      "source": [
        "> a. Eksplorasi parameter berapa jumlah cluster yang paling pas untuk dataset ini dengan algoritma hierarchical clustering."
      ],
      "metadata": {
        "id": "6w6KLReXhEXi"
      }
    },
    {
      "cell_type": "code",
      "source": [
        "plt.figure(figsize=(18,7))\n",
        "dendrogram(linkage(X, method='ward'))\n",
        "plt.show()"
      ],
      "metadata": {
        "id": "bKL0ouYHg4f4",
        "colab": {
          "base_uri": "https://localhost:8080/",
          "height": 428
        },
        "outputId": "4717c99e-b05d-4201-ac10-0fbc020cabb5"
      },
      "execution_count": 108,
      "outputs": [
        {
          "output_type": "display_data",
          "data": {
            "image/png": "[encoded data removed]",
            "text/plain": [
              "<Figure size 1296x504 with 1 Axes>"
            ]
          },
          "metadata": {
            "needs_background": "light"
          }
        }
      ]
    },
    {
      "cell_type": "markdown",
      "source": [
        "**Dari dendogram terlihat bahwa jumlah cluster terbaik adalah 3**"
      ],
      "metadata": {
        "id": "8zPdxutRjjm6"
      }
    },
    {
      "cell_type": "markdown",
      "source": [
        "> b. Visualisasikan dendrogram dengan centroid dari masing-masing kategori."
      ],
      "metadata": {
        "id": "woRT1Q9bhMNz"
      }
    },
    {
      "cell_type": "code",
      "source": [
        "plt.figure(figsize=(10,7))\n",
        "dendrogram(linkage(category_centroids))\n",
        "plt.show()"
      ],
      "metadata": {
        "colab": {
          "base_uri": "https://localhost:8080/",
          "height": 431
        },
        "id": "lAJElKS-Vh39",
        "outputId": "351a965f-eb84-4811-a054-53a5b9de7043"
      },
      "execution_count": 106,
      "outputs": [
        {
          "output_type": "display_data",
          "data": {
            "image/png": "[encoded data removed]",
            "text/plain": [
              "<Figure size 720x504 with 1 Axes>"
            ]
          },
          "metadata": {
            "needs_background": "light"
          }
        }
      ]
    },
    {
      "cell_type": "markdown",
      "source": [
        "#### **Soal 4**\n",
        "\n",
        "Berdasarkan dendrogram yang telah kalian buat, bagaimana pemetaan centroid kategori pada cluster jika dilakukan clustering sebanyak ***Z*** cluster?\n",
        "\n",
        "`Z = (digit akhir NPM) + 2`\n",
        "\n",
        "*Misal NPM = 1234567894, maka `Z = 4+2 = 6`"
      ],
      "metadata": {
        "id": "b6h7cjlNIWJd"
      }
    },
    {
      "cell_type": "markdown",
      "source": [
        "**Jawaban:**\n",
        "\n",
        "Z = 6, 6 cluster\n",
        "\n",
        "cluster 1: 0\n",
        "\n",
        "cluster 2: 2\n",
        "\n",
        "cluster 3: 3, 5, 1,8\n",
        "\n",
        "cluster 4: 7\n",
        "\n",
        "cluster 5: 4\n",
        "\n",
        "cluster 6: 6"
      ],
      "metadata": {
        "id": "4D8nOMw2JhNr"
      }
    },
    {
      "cell_type": "markdown",
      "source": [
        "### B3. Density-based Clustering\n",
        "\n"
      ],
      "metadata": {
        "id": "ZPeFFAbQJtMg"
      }
    },
    {
      "cell_type": "markdown",
      "source": [
        "Jenis clustering lainnya yaitu Density-Based Clustering. Berbeda dengan dua metode lainnya, clustering ini memetakan bukan berdasarkan jumlah cluster, melainkan berdasarkan seberapa padat suat area."
      ],
      "metadata": {
        "id": "fslGNY0NJpJw"
      }
    },
    {
      "cell_type": "markdown",
      "source": [
        "#### **Soal 5**\n",
        "\n",
        "a. Lakukan clustering dengan DBSCAN, lalu visualisasikan dengan fungsi `visualize_scatter_by_label()` seperti sebelumnya.\n",
        "\n",
        "b. Dari hasil yang diperoleh pada bagian a, apakah metode ini cocok untuk dataset katalog produk? Berikan alasannya."
      ],
      "metadata": {
        "id": "H6jt_3GTKmas"
      }
    },
    {
      "cell_type": "code",
      "source": [
        "db_clustering = DBSCAN(min_samples=3)\n",
        "y_dbscan = db_clustering.fit_predict(X)\n",
        "visualize_scatter_by_label(X_pca, y_dbscan)"
      ],
      "metadata": {
        "id": "dClgx-RsJ5aF",
        "colab": {
          "base_uri": "https://localhost:8080/",
          "height": 265
        },
        "outputId": "f3adff27-aafb-42e9-baec-97fe06efec6c"
      },
      "execution_count": 201,
      "outputs": [
        {
          "output_type": "display_data",
          "data": {
            "image/png": "[encoded data removed]",
            "text/plain": [
              "<Figure size 432x288 with 1 Axes>"
            ]
          },
          "metadata": {
            "needs_background": "light"
          }
        }
      ]
    },
    {
      "cell_type": "markdown",
      "source": [
        "Menurut saya tidak cocok.\n",
        "\n",
        "Alasan: \n",
        "kita ingin mengkluster kategori produk yaitu ada 9 kategori atau akan ada 9 kluster. Namun,  clustering dengan Dbscan tersebut tidak menghasilkan 9 kluster."
      ],
      "metadata": {
        "id": "PeMHp0z4h-NF"
      }
    },
    {
      "cell_type": "markdown",
      "source": [
        "## C. Analisis\n",
        "\n",
        "#### **Soal 6**\n",
        "\n",
        "a. Lakukan evaluasi dengan internal dan external measure, metode mana yang paling cocok antara *partitioning*, *hierarchical*, dan *density-based* untuk menyelesaikan clustering kategori katalog produk *e-commerce* pada data tugas ini.\n",
        "\n",
        "b. Sebutkan 3 fitur lain yang mungkin dapat meningkatkan performa dari clustering pada data ini. Asumsikan Anda adalah CTO perusahaan *e-commerce* dan dapat menentukan data apa saja yang bisa dikoleksi dari aktivitas *e-commerce*. Rasionalisasikan bahwa fitur tersebut bisa dikumpulkan dalam situasi riil."
      ],
      "metadata": {
        "id": "JEKdscP2LI7l"
      }
    },
    {
      "cell_type": "markdown",
      "source": [
        "> **a. Evaluasi dengan internal dan external measure**"
      ],
      "metadata": {
        "id": "6Umz5-iAylfa"
      }
    },
    {
      "cell_type": "markdown",
      "source": [
        "**Internal measure:**"
      ],
      "metadata": {
        "id": "UtRh7xneM6A1"
      }
    },
    {
      "cell_type": "code",
      "source": [
        "score = silhouette_score(X, k_means.labels_)\n",
        "print(f'Partition Based silhouette coefficient: {score}')\n",
        "\n",
        "score = silhouette_score(X, y_agg)\n",
        "print(f'Hierarchical Silhouette coefficient: {score}')\n",
        "\n",
        "score = silhouette_score(X, y_dbscan)\n",
        "print(f'Density Based Silhouette coefficient: {score}')"
      ],
      "metadata": {
        "colab": {
          "base_uri": "https://localhost:8080/"
        },
        "id": "3YO3lYU_9Qre",
        "outputId": "32b7d0dc-83cd-40bd-bbbc-1224ba217150"
      },
      "execution_count": 259,
      "outputs": [
        {
          "output_type": "stream",
          "name": "stdout",
          "text": [
            "Partition Based silhouette coefficient: 0.3768537815454243\n",
            "Hierarchical Silhouette coefficient: 0.3391168286863171\n",
            "Density Based Silhouette coefficient: 0.30303448330010924\n"
          ]
        }
      ]
    },
    {
      "cell_type": "markdown",
      "source": [
        "Hasil evaluasi yang paling baik adalah yang paling tingi nilai sihoutte-nya yaitu partition based(algoritma kmeans)"
      ],
      "metadata": {
        "id": "71eTrcixOB44"
      }
    },
    {
      "cell_type": "markdown",
      "source": [
        "**External measure:**"
      ],
      "metadata": {
        "id": "St85GjTbNgAz"
      }
    },
    {
      "cell_type": "code",
      "source": [
        "y_true = df['category'].copy()\n",
        "for i in range(9):\n",
        "  start = i*100\n",
        "  end = i*100+100\n",
        "  y_true[start:end] = i\n",
        "y_true"
      ],
      "metadata": {
        "colab": {
          "base_uri": "https://localhost:8080/"
        },
        "id": "-aYeFxIoC17T",
        "outputId": "e5d9ec53-4234-4933-f212-b9f552bbe051"
      },
      "execution_count": 260,
      "outputs": [
        {
          "output_type": "execute_result",
          "data": {
            "text/plain": [
              "0      0\n",
              "1      0\n",
              "2      0\n",
              "3      0\n",
              "4      0\n",
              "      ..\n",
              "895    8\n",
              "896    8\n",
              "897    8\n",
              "898    8\n",
              "899    8\n",
              "Name: category, Length: 900, dtype: object"
            ]
          },
          "metadata": {},
          "execution_count": 260
        }
      ]
    },
    {
      "cell_type": "code",
      "source": [
        "from sklearn import metrics\n",
        "\n",
        "def purity_score(y_true, y_pred):\n",
        "    contingency_matrix = metrics.cluster.contingency_matrix(y_true, y_pred)\n",
        "    return np.sum(np.amax(contingency_matrix, axis=0)) / np.sum(contingency_matrix)"
      ],
      "metadata": {
        "id": "uvrYnfJmDsRc"
      },
      "execution_count": 262,
      "outputs": []
    },
    {
      "cell_type": "code",
      "source": [
        "score = purity_score(y_true, k_means.labels_)\n",
        "print(f'Partition Based purity: {score}')\n",
        "\n",
        "score = purity_score(y_true, y_agg)\n",
        "print(f'Hierarchical purity: {score}')\n",
        "\n",
        "score = purity_score(y_true, y_dbscan)\n",
        "print(f'Density Based purity: {score}')"
      ],
      "metadata": {
        "colab": {
          "base_uri": "https://localhost:8080/"
        },
        "id": "DKjD3JWHFCBe",
        "outputId": "cfab7400-40a6-4ea9-cdea-8799b7d7faac"
      },
      "execution_count": 263,
      "outputs": [
        {
          "output_type": "stream",
          "name": "stdout",
          "text": [
            "Partition Based purity: 0.25333333333333335\n",
            "Hierarchical purity: 0.25222222222222224\n",
            "Density Based purity: 0.12666666666666668\n"
          ]
        }
      ]
    },
    {
      "cell_type": "markdown",
      "source": [
        "Hasil evaluasi yang paling baik adalah yang paling tingi nilai purity-nya yaitu partition based(algoritma kmeans)"
      ],
      "metadata": {
        "id": "lKw8q0ivOXXx"
      }
    },
    {
      "cell_type": "markdown",
      "source": [
        "b. 3 fitur lain:\n",
        "- penilaian (bintang 1-5)\n",
        "- metode pengiriman barang\n",
        "- lokasi barang\n",
        "\n",
        "ketiga fitur tersebut sangat mungkin untuk didapatkan dan sudah sering ada di platform-platform e-commerce seperti tokopedia"
      ],
      "metadata": {
        "id": "Hpc8jhwsvNhI"
      }
    }
  ]
}